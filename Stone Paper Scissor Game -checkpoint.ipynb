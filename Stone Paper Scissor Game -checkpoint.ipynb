{
 "cells": [
  {
   "cell_type": "markdown",
   "id": "e61c52cb",
   "metadata": {},
   "source": [
    "# Stone Paper Scissor Game "
   ]
  },
  {
   "cell_type": "code",
   "execution_count": 1,
   "id": "99c5edaa",
   "metadata": {},
   "outputs": [
    {
     "name": "stdout",
     "output_type": "stream",
     "text": [
      "Welcome to Stone-Paper-Scissors Game!\n",
      "Enter your choice: stone, paper, or scissors.\n",
      "stone\n",
      "Player's choice: stone\n",
      "Computer's choice: scissors\n",
      "You win!\n"
     ]
    }
   ],
   "source": [
    "import random\n",
    "\n",
    "def determine_winner(player_choice, computer_choice):\n",
    "    if player_choice == computer_choice:\n",
    "        return \"It's a tie!\"\n",
    "    elif (player_choice == \"stone\" and computer_choice == \"scissors\") or \\\n",
    "         (player_choice == \"paper\" and computer_choice == \"stone\") or \\\n",
    "         (player_choice == \"scissors\" and computer_choice == \"paper\"):\n",
    "        return \"You win!\"\n",
    "    else:\n",
    "        return \"Computer wins!\"\n",
    "\n",
    "def play_game():\n",
    "    choices = [\"stone\", \"paper\", \"scissors\"]\n",
    "    print(\"Welcome to Stone-Paper-Scissors Game!\")\n",
    "    print(\"Enter your choice: stone, paper, or scissors.\")\n",
    "    player_choice = input().lower()\n",
    "    while player_choice not in choices:\n",
    "        print(\"Invalid choice! Please choose stone, paper, or scissors.\")\n",
    "        player_choice = input().lower()\n",
    "    computer_choice = random.choice(choices)\n",
    "    print(\"Player's choice:\", player_choice)\n",
    "    print(\"Computer's choice:\", computer_choice)\n",
    "    print(determine_winner(player_choice, computer_choice))\n",
    "\n",
    "play_game()\n"
   ]
  },
  {
   "cell_type": "code",
   "execution_count": null,
   "id": "937a7d6d",
   "metadata": {},
   "outputs": [],
   "source": []
  }
 ],
 "metadata": {
  "kernelspec": {
   "display_name": "Python 3 (ipykernel)",
   "language": "python",
   "name": "python3"
  },
  "language_info": {
   "codemirror_mode": {
    "name": "ipython",
    "version": 3
   },
   "file_extension": ".py",
   "mimetype": "text/x-python",
   "name": "python",
   "nbconvert_exporter": "python",
   "pygments_lexer": "ipython3",
   "version": "3.10.9"
  }
 },
 "nbformat": 4,
 "nbformat_minor": 5
}
